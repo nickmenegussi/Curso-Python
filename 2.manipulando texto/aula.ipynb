{
 "cells": [
  {
   "cell_type": "markdown",
   "metadata": {},
   "source": [
    "## Manipulando string\n",
    "- fatiamento de string = frase[e o indice], [1:4] , [-1:-4], [9:21:2] pulando de 2 em 2, [:5] do zero até o 4 , [6::3] VAI IR ATÉ O FINAL e pular de 3 em 3\n",
    "## Análise de string\n",
    "- len = vai ler quantos caracteres tem a   frase\n",
    "- count(\"letra\", 0, 13) = vai contar quantas letras do tipo tem\n",
    "- find = encontrar o caracter em que a letras está , \n",
    "- Curos in frase(operador) , se no programa rodar -1 é por que nao existe\n",
    "## Transformação\n",
    "- replaca = trocar , se quiser trocar uma string e so fazer com o replace\n",
    "- capitalize =  Retorna uma versão em maiúscula da string.Mais especificamente, faça com que o primeiro caractere seja maiúsculo e o restante, minúsculo.\n",
    "- title = aonde estiver espaço ele vai transformar em maiusculo \n",
    "- strip = vai remover os espaços inuteis \n",
    "- rstrip = vai remover somente o lado direito\n",
    "- lstrip = vai remover os espaços da esquerda\n",
    "## Dividir string\n",
    "- split = vai pegar aonde tem espaço e dividir sendo assim mudando os caracters\n",
    "# Junção\n",
    "-\" \".j\"oin = juntar uma na outra"
   ]
  }
 ],
 "metadata": {
  "kernelspec": {
   "display_name": "Python 3.9.12 ('base')",
   "language": "python",
   "name": "python3"
  },
  "language_info": {
   "name": "python",
   "version": "3.9.12 (main, Apr  4 2022, 05:22:27) [MSC v.1916 64 bit (AMD64)]"
  },
  "orig_nbformat": 4,
  "vscode": {
   "interpreter": {
    "hash": "fb0a6aec245377bb44d90a241e2300460ecf6e2bba54030feea4b5a199f1adaa"
   }
  }
 },
 "nbformat": 4,
 "nbformat_minor": 2
}
