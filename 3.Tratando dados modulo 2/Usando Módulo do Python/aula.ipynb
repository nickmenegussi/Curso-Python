{
 "cells": [
  {
   "cell_type": "markdown",
   "metadata": {},
   "source": [
    "### Usando módulos do Python\n",
    "- Usamos os módulso de python chamados de biblioteca para importar ou melhor dizendo pegando alguma função que ja está criada por alguém , para chamar um comando especifico \n",
    "- import (Todo o conjunto da biblioteca vem junto , tudo o que tem nela )\n",
    "- from nome import nome especifico (Fala o seguinte: De tal biblioteca eu quero importar somente esse )\n",
    "- math operador matematica\n",
    "- ceil = ele arredonda um numero para cima\n",
    "- florr = arredonda um numero para baixa\n",
    "- trunc = eliminar da virgula pra frente\n",
    "- pow = calcular potencia\n",
    "- sqrt = faz a raiz quadrada\n",
    "- factorial = \n",
    "\n",
    "Mais informação ver em https://python.org"
   ]
  },
  {
   "cell_type": "code",
   "execution_count": null,
   "metadata": {},
   "outputs": [],
   "source": [
    "import random\n",
    "num = random.random() # sortea um numero de 0 e 1 \n",
    "numa = random.randint(1, 15000) # sortea um numero da sua escolha\n",
    "print(numa)"
   ]
  },
  {
   "cell_type": "code",
   "execution_count": null,
   "metadata": {},
   "outputs": [],
   "source": [
    "#import emoji\n",
    "# print(emoji.demojize(\"Python é 👍\", language='pt'))"
   ]
  }
 ],
 "metadata": {
  "kernelspec": {
   "display_name": "Python 3.9.12 ('base')",
   "language": "python",
   "name": "python3"
  },
  "language_info": {
   "codemirror_mode": {
    "name": "ipython",
    "version": 3
   },
   "file_extension": ".py",
   "mimetype": "text/x-python",
   "name": "python",
   "nbconvert_exporter": "python",
   "pygments_lexer": "ipython3",
   "version": "3.9.12 (main, Apr  4 2022, 05:22:27) [MSC v.1916 64 bit (AMD64)]"
  },
  "orig_nbformat": 4,
  "vscode": {
   "interpreter": {
    "hash": "fb0a6aec245377bb44d90a241e2300460ecf6e2bba54030feea4b5a199f1adaa"
   }
  }
 },
 "nbformat": 4,
 "nbformat_minor": 2
}
