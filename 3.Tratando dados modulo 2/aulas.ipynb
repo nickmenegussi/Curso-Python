{
 "cells": [
  {
   "cell_type": "markdown",
   "metadata": {},
   "source": [
    "### Tipos primitivos e saida de dados\n",
    "\n",
    "No python existe 4 tipos de operações e funções:\n",
    "\n",
    "- Tipo int\n",
    "- Tipo bool\n",
    "- Tipo float\n",
    "- Tipo str"
   ]
  },
  {
   "cell_type": "code",
   "execution_count": null,
   "metadata": {},
   "outputs": [],
   "source": [
    "# Tipo int: ve se o numero é inteiro \n",
    "\n",
    "numero = int(input(\"Digite um numero: \"))\n",
    "print(type(numero))\n"
   ]
  },
  {
   "cell_type": "code",
   "execution_count": null,
   "metadata": {},
   "outputs": [],
   "source": [
    "a = 20\n",
    "b = 30\n",
    "\n",
    "print(a > b)\n",
    "print(a < b)"
   ]
  },
  {
   "cell_type": "code",
   "execution_count": null,
   "metadata": {},
   "outputs": [],
   "source": [
    "# Tpo float fica um ponto flutuante , com numeros decimais\n",
    "\n",
    "numero = float(input(\"Digite um numero: \"))\n",
    "print(type(numero))\n"
   ]
  },
  {
   "cell_type": "code",
   "execution_count": null,
   "metadata": {},
   "outputs": [],
   "source": [
    "# Tpo str  fica em forma de string como formas de texto\n",
    "\n",
    "numero = str(input(\"Digite um numero: \"))\n",
    "print(type(numero))"
   ]
  },
  {
   "cell_type": "markdown",
   "metadata": {},
   "source": [
    "### Exercicio Python 3"
   ]
  },
  {
   "cell_type": "code",
   "execution_count": null,
   "metadata": {},
   "outputs": [],
   "source": [
    "# ler dois numeros e mostrar a soma entre eles.\n",
    "\n",
    "num1 = int(input(\"Digiteo primeiro numero: \"))\n",
    "num2 = int(input(\"Digite o segundo numero: \"))\n",
    "soma = num1 + num2\n",
    "\n",
    "print(\"A soma é %d\" %soma)"
   ]
  },
  {
   "cell_type": "markdown",
   "metadata": {},
   "source": [
    "### Exercício Python 4 \n",
    "- Faça um programa que leia algo pelo teclado e mostre natela o seu tipo primitivo e todas as informações possíveis sobre ele.\n"
   ]
  },
  {
   "cell_type": "code",
   "execution_count": 1,
   "metadata": {},
   "outputs": [
    {
     "name": "stdout",
     "output_type": "stream",
     "text": [
      "So tem espaços ?  False\n",
      "É um numero?  False\n",
      "É alfanumérico? True\n",
      "É alfabético?  True\n",
      "Está em maiúsculas?  False\n",
      "Está em minúsculas?  True\n",
      "Está capitalizada?  False\n"
     ]
    }
   ],
   "source": [
    "algo = input(\"Digite algo: \")\n",
    "\n",
    "print(\"So tem espaços ? \",algo.isspace())\n",
    "print(\"É um numero? \", algo.isnumeric())\n",
    "print(\"É alfanumérico?\", algo.isalnum())\n",
    "print(\"É alfabético? \",algo.isalpha())\n",
    "print(\"Está em maiúsculas? \",algo.isupper())\n",
    "print(\"Está em minúsculas? \",algo.islower()) # Não nem minusculas e nem minusculas entao esta capitalizada\n",
    "print(\"Está capitalizada? \",algo.istitle())"
   ]
  },
  {
   "cell_type": "markdown",
   "metadata": {},
   "source": [
    "### Operadores Aritmétricos\n",
    "- Soma +\n",
    "- Subtração -\n",
    "- Multiplicação *\n",
    "- Divisão /\n",
    "- Raiz quadrada **(1/2) ou raiz cubica **(1/3)\n",
    "- Divisão com resto //\n",
    "- Potencia **\n",
    "end=\"\" sem quebra de linha "
   ]
  },
  {
   "cell_type": "markdown",
   "metadata": {},
   "source": []
  },
  {
   "cell_type": "markdown",
   "metadata": {},
   "source": [
    "### Usando módulos do Python\n",
    "- Usamos os módulso de python chamados de biblioteca para importar ou melhor dizendo pegando alguma função que ja está criada por alguém , para chamar um comando especifico \n",
    "- import (Todo o conjunto da biblioteca vem junto , tudo o que tem nela )\n",
    "- from nome import nome especifico (Fala o seguinte: De tal biblioteca eu quero importar somente esse )\n",
    "- math operador matematica\n",
    "- ceil = ele arredonda um numero para cima\n",
    "- florr = arredonda um numero para baixa\n",
    "- trunc = eliminar da virgula pra frente\n",
    "- pow = calcular potencia\n",
    "- sqrt = faz a raiz quadrada\n",
    "- factorial = \n",
    "\n",
    "Mais informação ver em https://python.org"
   ]
  },
  {
   "cell_type": "code",
   "execution_count": 22,
   "metadata": {},
   "outputs": [
    {
     "name": "stdout",
     "output_type": "stream",
     "text": [
      "1534\n"
     ]
    }
   ],
   "source": [
    "import random\n",
    "num = random.random() # sortea um numero de 0 e 1 \n",
    "numa = random.randint(1, 15000) # sortea um numero da sua escolha\n",
    "print(numa)\n",
    "(((((((((((((((((((((((((((((((((((((((())))))))))))))))))))))))))))))))))))))))"
   ]
  },
  {
   "cell_type": "code",
   "execution_count": null,
   "metadata": {},
   "outputs": [],
   "source": [
    "#import emoji\n",
    "# print(emoji.demojize(\"Python é 👍\", language='pt'))"
   ]
  }
 ],
 "metadata": {
  "kernelspec": {
   "display_name": "Python 3.10.2 64-bit",
   "language": "python",
   "name": "python3"
  },
  "language_info": {
   "codemirror_mode": {
    "name": "ipython",
    "version": 3
   },
   "file_extension": ".py",
   "mimetype": "text/x-python",
   "name": "python",
   "nbconvert_exporter": "python",
   "pygments_lexer": "ipython3",
   "version": "3.10.2"
  },
  "orig_nbformat": 4,
  "vscode": {
   "interpreter": {
    "hash": "e593ac106456af50ce7af38f9671c411b49d6cd90f9b885e167f0f594e09038c"
   }
  }
 },
 "nbformat": 4,
 "nbformat_minor": 2
}
